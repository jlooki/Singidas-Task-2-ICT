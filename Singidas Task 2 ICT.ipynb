{
 "cells": [
  {
   "cell_type": "code",
   "execution_count": 11,
   "id": "65d9ccff-dd85-4e02-a55d-cbe7780646eb",
   "metadata": {},
   "outputs": [
    {
     "name": "stdout",
     "output_type": "stream",
     "text": [
      "Matrix A:\n",
      " [[ 3 13 19]\n",
      " [ 8  1  9]]\n",
      "\n",
      "Matrix B:\n",
      " [[2 0 2]\n",
      " [1 2 9]]\n"
     ]
    }
   ],
   "source": [
    "import numpy as np\n",
    "\n",
    "A = np.array([[3, 13, 19],\n",
    "              [8, 1, 9]])\n",
    "\n",
    "B = np.array([[2, 0, 2],\n",
    "              [1, 2, 9]])\n",
    "\n",
    "print(\"Matrix A:\\n\", A)\n",
    "print(\"\\nMatrix B:\\n\", B)"
   ]
  },
  {
   "cell_type": "code",
   "execution_count": 12,
   "id": "dabd62bd-8cae-480d-8628-6b0ffa5d49b6",
   "metadata": {},
   "outputs": [
    {
     "name": "stdout",
     "output_type": "stream",
     "text": [
      "\n",
      "Matrix C (A + B):\n",
      " [[ 5 13 21]\n",
      " [ 9  3 18]]\n"
     ]
    }
   ],
   "source": [
    "# Matrix Addition\n",
    "C = A + B\n",
    "print(\"\\nMatrix C (A + B):\\n\", C)\n"
   ]
  },
  {
   "cell_type": "code",
   "execution_count": 13,
   "id": "fea08e25-2fbd-4d28-a196-fcaaf6d3a67b",
   "metadata": {},
   "outputs": [
    {
     "name": "stdout",
     "output_type": "stream",
     "text": [
      "\n",
      "Matrix D (2 * A):\n",
      " [[ 6 26 38]\n",
      " [16  2 18]]\n"
     ]
    }
   ],
   "source": [
    "# Scalar Multiplication\n",
    "D = 2 * A\n",
    "print(\"\\nMatrix D (2 * A):\\n\", D)"
   ]
  },
  {
   "cell_type": "code",
   "execution_count": 14,
   "id": "ef8872eb-c8cc-4851-80e7-db7adecc986b",
   "metadata": {},
   "outputs": [
    {
     "name": "stdout",
     "output_type": "stream",
     "text": [
      "\n",
      "Matrix E (Transpose of B):\n",
      " [[2 1]\n",
      " [0 2]\n",
      " [2 9]]\n"
     ]
    }
   ],
   "source": [
    "# Matrix Transpose\n",
    "E = B.T\n",
    "print(\"\\nMatrix E (Transpose of B):\\n\", E)"
   ]
  },
  {
   "cell_type": "code",
   "execution_count": 15,
   "id": "68cd421d-3d96-4940-acae-bc5cfe10a76b",
   "metadata": {},
   "outputs": [
    {
     "name": "stdout",
     "output_type": "stream",
     "text": [
      "\n",
      "Matrix F (C x E):\n",
      " [[ 52 220]\n",
      " [ 54 177]]\n"
     ]
    }
   ],
   "source": [
    "# Matrix Multiplication\n",
    "F = C @ E\n",
    "print(\"\\nMatrix F (C x E):\\n\", F)"
   ]
  },
  {
   "cell_type": "code",
   "execution_count": 16,
   "id": "04e924c9-54b5-4e66-97db-4c960dc0adb1",
   "metadata": {},
   "outputs": [
    {
     "name": "stdout",
     "output_type": "stream",
     "text": [
      "\n",
      "Sum of elements in Matrix C: 69\n"
     ]
    }
   ],
   "source": [
    "# Sum of All Elements in Matrix C\n",
    "sum_C = C.sum()\n",
    "print(\"\\nSum of elements in Matrix C:\", sum_C)"
   ]
  },
  {
   "cell_type": "code",
   "execution_count": 17,
   "id": "8a00fd41-bcfb-4ff7-8766-5b72a3c7d3be",
   "metadata": {},
   "outputs": [
    {
     "name": "stdout",
     "output_type": "stream",
     "text": [
      "\n",
      "Zero Matrix:\n",
      " [[0 0 0]\n",
      " [0 0 0]]\n"
     ]
    }
   ],
   "source": [
    "# Zero Matrix (2x3)\n",
    "zero_matrix = np.zeros((2, 3), dtype=int)\n",
    "print(\"\\nZero Matrix:\\n\", zero_matrix)"
   ]
  },
  {
   "cell_type": "code",
   "execution_count": null,
   "id": "28a7a58b-39f0-4ea8-a7f5-466c0e5be552",
   "metadata": {},
   "outputs": [],
   "source": []
  }
 ],
 "metadata": {
  "kernelspec": {
   "display_name": "Python 3 (ipykernel)",
   "language": "python",
   "name": "python3"
  },
  "language_info": {
   "codemirror_mode": {
    "name": "ipython",
    "version": 3
   },
   "file_extension": ".py",
   "mimetype": "text/x-python",
   "name": "python",
   "nbconvert_exporter": "python",
   "pygments_lexer": "ipython3",
   "version": "3.13.0"
  }
 },
 "nbformat": 4,
 "nbformat_minor": 5
}
